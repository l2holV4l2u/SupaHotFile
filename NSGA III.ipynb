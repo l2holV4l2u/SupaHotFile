{
 "cells": [
  {
   "cell_type": "code",
   "execution_count": 12,
   "id": "bd1b8118",
   "metadata": {
    "scrolled": true
   },
   "outputs": [
    {
     "name": "stdout",
     "output_type": "stream",
     "text": [
      "Requirement already satisfied: pymoo in c:\\users\\asus\\anaconda3\\lib\\site-packages (0.6.0.1)\n",
      "Requirement already satisfied: dill in c:\\users\\asus\\anaconda3\\lib\\site-packages (from pymoo) (0.3.6)\n",
      "Requirement already satisfied: alive-progress in c:\\users\\asus\\anaconda3\\lib\\site-packages (from pymoo) (3.0.1)\n",
      "Requirement already satisfied: scipy>=1.1 in c:\\users\\asus\\anaconda3\\lib\\site-packages (from pymoo) (1.7.3)\n",
      "Requirement already satisfied: cma==3.2.2 in c:\\users\\asus\\anaconda3\\lib\\site-packages (from pymoo) (3.2.2)\n",
      "Requirement already satisfied: autograd>=1.4 in c:\\users\\asus\\anaconda3\\lib\\site-packages (from pymoo) (1.5)\n",
      "Requirement already satisfied: numpy>=1.15 in c:\\users\\asus\\anaconda3\\lib\\site-packages (from pymoo) (1.21.5)\n",
      "Requirement already satisfied: Deprecated in c:\\users\\asus\\anaconda3\\lib\\site-packages (from pymoo) (1.2.13)\n",
      "Requirement already satisfied: matplotlib>=3 in c:\\users\\asus\\anaconda3\\lib\\site-packages (from pymoo) (3.5.1)\n",
      "Requirement already satisfied: future>=0.15.2 in c:\\users\\asus\\anaconda3\\lib\\site-packages (from autograd>=1.4->pymoo) (0.18.2)\n",
      "Requirement already satisfied: kiwisolver>=1.0.1 in c:\\users\\asus\\anaconda3\\lib\\site-packages (from matplotlib>=3->pymoo) (1.3.2)\n",
      "Requirement already satisfied: pyparsing>=2.2.1 in c:\\users\\asus\\anaconda3\\lib\\site-packages (from matplotlib>=3->pymoo) (3.0.4)\n",
      "Requirement already satisfied: python-dateutil>=2.7 in c:\\users\\asus\\anaconda3\\lib\\site-packages (from matplotlib>=3->pymoo) (2.8.2)\n",
      "Requirement already satisfied: pillow>=6.2.0 in c:\\users\\asus\\anaconda3\\lib\\site-packages (from matplotlib>=3->pymoo) (9.0.1)\n",
      "Requirement already satisfied: fonttools>=4.22.0 in c:\\users\\asus\\anaconda3\\lib\\site-packages (from matplotlib>=3->pymoo) (4.25.0)\n",
      "Requirement already satisfied: packaging>=20.0 in c:\\users\\asus\\anaconda3\\lib\\site-packages (from matplotlib>=3->pymoo) (21.3)\n",
      "Requirement already satisfied: cycler>=0.10 in c:\\users\\asus\\anaconda3\\lib\\site-packages (from matplotlib>=3->pymoo) (0.11.0)\n",
      "Requirement already satisfied: six>=1.5 in c:\\users\\asus\\anaconda3\\lib\\site-packages (from python-dateutil>=2.7->matplotlib>=3->pymoo) (1.16.0)\n",
      "Requirement already satisfied: about-time==4.2.1 in c:\\users\\asus\\anaconda3\\lib\\site-packages (from alive-progress->pymoo) (4.2.1)\n",
      "Requirement already satisfied: grapheme==0.6.0 in c:\\users\\asus\\anaconda3\\lib\\site-packages (from alive-progress->pymoo) (0.6.0)\n",
      "Requirement already satisfied: wrapt<2,>=1.10 in c:\\users\\asus\\anaconda3\\lib\\site-packages (from Deprecated->pymoo) (1.12.1)\n"
     ]
    }
   ],
   "source": [
    "!pip install -U pymoo"
   ]
  },
  {
   "cell_type": "code",
   "execution_count": null,
   "id": "bafccc2b",
   "metadata": {},
   "outputs": [],
   "source": [
    "from pymoo.core.problem import ElementwiseProblem\n",
    "from pymoo.algorithms.moo.nsga3 import NSGA3\n",
    "from pymoo.operators.crossover.sbx import SBX\n",
    "from pymoo.operators.mutation.pm import PM\n",
    "from pymoo.operators.sampling.rnd import FloatRandomSampling\n",
    "from pymoo.termination import get_termination\n",
    "from pymoo.optimize import minimize\n",
    "from pymoo.util.ref_dirs import get_reference_directions\n",
    "import numpy as np\n",
    "import matplotlib.pyplot as plt\n",
    "\n",
    "class MyProblem(ElementwiseProblem):\n",
    "\n",
    "    def __init__(self):\n",
    "        super().__init__(n_var=3,\n",
    "                         n_obj=2,\n",
    "                         n_ieq_constr=0,\n",
    "                         xl=np.array([-5,-5,-5]),\n",
    "                         xu=np.array([5,5,5]))\n",
    "\n",
    "    def _evaluate(self, x, out, *args, **kwargs):\n",
    "        f1 = 0\n",
    "        f2 = 0\n",
    "        for i in range(2):\n",
    "            f1 += -10*np.exp(-0.2*np.sqrt(x[i]**2+x[i+1]**2))\n",
    "        for i in range(3):\n",
    "            f2 += np.abs(x[i])**0.8+5*np.sin(x[i]**3) \n",
    "\n",
    "        out[\"F\"] = [f1, f2]\n",
    "\n",
    "problem = MyProblem()\n",
    "\n",
    "algorithm = NSGA3(\n",
    "    pop_size=100,\n",
    "    n_offsprings=70,\n",
    "    ref_dirs = get_reference_directions(\"das-dennis\", problem.n_obj, n_partitions=12),\n",
    "    sampling=FloatRandomSampling(),\n",
    "    crossover=SBX(prob=0.9, eta=15),\n",
    "    mutation=PM(eta=20),\n",
    "    eliminate_duplicates=True\n",
    ")\n",
    "\n",
    "termination = get_termination(\"n_gen\", 80)\n",
    "\n",
    "res = minimize(problem,\n",
    "               algorithm,\n",
    "               termination,\n",
    "               seed=1,\n",
    "               save_history=True,\n",
    "               verbose=False)\n",
    "\n",
    "X = res.X\n",
    "F = res.F\n",
    "\n",
    "plt.figure(figsize=(7, 5))\n",
    "plt.scatter(F[:, 0], F[:, 1], s=30, facecolors='none', edgecolors='blue')\n",
    "plt.title(\"Objective Space\")\n",
    "plt.ylabel('f2')\n",
    "plt.xlabel('f1')\n",
    "plt.show()\n",
    "\n",
    "print(X)"
   ]
  },
  {
   "cell_type": "code",
   "execution_count": null,
   "id": "eab9de84",
   "metadata": {},
   "outputs": [],
   "source": []
  }
 ],
 "metadata": {
  "kernelspec": {
   "display_name": "Python 3 (ipykernel)",
   "language": "python",
   "name": "python3"
  },
  "language_info": {
   "codemirror_mode": {
    "name": "ipython",
    "version": 3
   },
   "file_extension": ".py",
   "mimetype": "text/x-python",
   "name": "python",
   "nbconvert_exporter": "python",
   "pygments_lexer": "ipython3",
   "version": "3.9.12"
  }
 },
 "nbformat": 4,
 "nbformat_minor": 5
}
