{
 "cells": [
  {
   "cell_type": "code",
   "execution_count": 1,
   "id": "bd1b8118",
   "metadata": {
    "scrolled": true
   },
   "outputs": [
    {
     "name": "stdout",
     "output_type": "stream",
     "text": [
      "Requirement already satisfied: pymoo in c:\\users\\user\\anaconda3\\lib\\site-packages (0.6.0.1)\n",
      "Requirement already satisfied: cma==3.2.2 in c:\\users\\user\\anaconda3\\lib\\site-packages (from pymoo) (3.2.2)\n",
      "Requirement already satisfied: autograd>=1.4 in c:\\users\\user\\anaconda3\\lib\\site-packages (from pymoo) (1.5)\n",
      "Requirement already satisfied: dill in c:\\users\\user\\anaconda3\\lib\\site-packages (from pymoo) (0.3.6)\n",
      "Requirement already satisfied: Deprecated in c:\\users\\user\\anaconda3\\lib\\site-packages (from pymoo) (1.2.13)\n",
      "Requirement already satisfied: alive-progress in c:\\users\\user\\anaconda3\\lib\\site-packages (from pymoo) (3.0.1)\n",
      "Requirement already satisfied: matplotlib>=3 in c:\\users\\user\\anaconda3\\lib\\site-packages (from pymoo) (3.3.4)\n",
      "Requirement already satisfied: numpy>=1.15 in c:\\users\\user\\anaconda3\\lib\\site-packages (from pymoo) (1.20.1)\n",
      "Requirement already satisfied: scipy>=1.1 in c:\\users\\user\\anaconda3\\lib\\site-packages (from pymoo) (1.10.1)\n",
      "Requirement already satisfied: future>=0.15.2 in c:\\users\\user\\anaconda3\\lib\\site-packages (from autograd>=1.4->pymoo) (0.18.2)\n",
      "Requirement already satisfied: pillow>=6.2.0 in c:\\users\\user\\anaconda3\\lib\\site-packages (from matplotlib>=3->pymoo) (8.2.0)\n",
      "Requirement already satisfied: pyparsing!=2.0.4,!=2.1.2,!=2.1.6,>=2.0.3 in c:\\users\\user\\anaconda3\\lib\\site-packages (from matplotlib>=3->pymoo) (2.4.7)\n",
      "Requirement already satisfied: python-dateutil>=2.1 in c:\\users\\user\\anaconda3\\lib\\site-packages (from matplotlib>=3->pymoo) (2.8.1)\n",
      "Requirement already satisfied: kiwisolver>=1.0.1 in c:\\users\\user\\anaconda3\\lib\\site-packages (from matplotlib>=3->pymoo) (1.3.1)\n",
      "Requirement already satisfied: cycler>=0.10 in c:\\users\\user\\anaconda3\\lib\\site-packages (from matplotlib>=3->pymoo) (0.10.0)\n",
      "Requirement already satisfied: six in c:\\users\\user\\anaconda3\\lib\\site-packages (from cycler>=0.10->matplotlib>=3->pymoo) (1.15.0)\n",
      "Requirement already satisfied: grapheme==0.6.0 in c:\\users\\user\\anaconda3\\lib\\site-packages (from alive-progress->pymoo) (0.6.0)\n",
      "Requirement already satisfied: about-time==4.2.1 in c:\\users\\user\\anaconda3\\lib\\site-packages (from alive-progress->pymoo) (4.2.1)\n",
      "Requirement already satisfied: wrapt<2,>=1.10 in c:\\users\\user\\anaconda3\\lib\\site-packages (from Deprecated->pymoo) (1.12.1)\n"
     ]
    }
   ],
   "source": [
    "!pip install -U pymoo"
   ]
  },
  {
   "cell_type": "code",
   "execution_count": 2,
   "id": "bafccc2b",
   "metadata": {},
   "outputs": [
    {
     "data": {
      "image/png": "[encoded data removed]",
      "text/plain": [
       "<Figure size 504x360 with 1 Axes>"
      ]
     },
     "metadata": {
      "needs_background": "light"
     },
     "output_type": "display_data"
    },
    {
     "name": "stdout",
     "output_type": "stream",
     "text": [
      "[[-1.07761523e+00 -8.67195193e-01 -1.08108211e+00]\n",
      " [-5.75091357e-01 -2.57680616e-03  3.48712046e-03]\n",
      " [-1.08054663e+00 -8.55354305e-03 -1.09542759e+00]\n",
      " [-3.10182852e-03 -2.90288544e-03  2.75602917e-04]\n",
      " [-8.37349829e-01 -1.37900877e-03  3.58670617e-03]\n",
      " [-1.09547319e+00 -6.92564098e-01 -1.08415436e+00]\n",
      " [-1.12554731e+00 -1.14102922e+00 -1.12847886e+00]\n",
      " [-1.05571219e+00 -9.50226447e-04  3.84084823e-03]\n",
      " [-9.61695418e-01  8.57882771e-03 -1.00597490e+00]\n",
      " [-1.11978434e+00 -9.77814756e-01 -1.08398722e+00]\n",
      " [-8.20080522e-01 -1.20636757e-03 -9.63549005e-01]\n",
      " [-5.07603520e-01 -2.92784603e-03 -1.10856097e+00]]\n"
     ]
    }
   ],
   "source": [
    "from pymoo.core.problem import ElementwiseProblem\n",
    "from pymoo.algorithms.moo.nsga3 import NSGA3\n",
    "from pymoo.operators.crossover.sbx import SBX\n",
    "from pymoo.operators.mutation.pm import PM\n",
    "from pymoo.operators.sampling.rnd import FloatRandomSampling\n",
    "from pymoo.termination import get_termination\n",
    "from pymoo.optimize import minimize\n",
    "from pymoo.util.ref_dirs import get_reference_directions\n",
    "import numpy as np\n",
    "import matplotlib.pyplot as plt\n",
    "\n",
    "class MyProblem(ElementwiseProblem):\n",
    "\n",
    "    def __init__(self):\n",
    "        super().__init__(n_var=3,\n",
    "                         n_obj=2,\n",
    "                         n_ieq_constr=0,\n",
    "                         xl=np.array([-5,-5,-5]),\n",
    "                         xu=np.array([5,5,5]))\n",
    "\n",
    "    def _evaluate(self, x, out, *args, **kwargs):\n",
    "        f1 = 0\n",
    "        f2 = 0\n",
    "        for i in range(2):\n",
    "            f1 += -10*np.exp(-0.2*np.sqrt(x[i]**2+x[i+1]**2))\n",
    "        for i in range(3):\n",
    "            f2 += np.abs(x[i])**0.8+5*np.sin(x[i]**3) \n",
    "\n",
    "        out[\"F\"] = [f1, f2]\n",
    "\n",
    "problem = MyProblem()\n",
    "\n",
    "algorithm = NSGA3(\n",
    "    pop_size=100,\n",
    "    n_offsprings=70,\n",
    "    ref_dirs = get_reference_directions(\"das-dennis\", problem.n_obj, n_partitions=12),\n",
    "    sampling=FloatRandomSampling(),\n",
    "    crossover=SBX(prob=0.9, eta=15),\n",
    "    mutation=PM(eta=20),\n",
    "    eliminate_duplicates=True\n",
    ")\n",
    "\n",
    "termination = get_termination(\"n_gen\", 80)\n",
    "\n",
    "res = minimize(problem,\n",
    "               algorithm,\n",
    "               termination,\n",
    "               seed=1,\n",
    "               save_history=True,\n",
    "               verbose=False)\n",
    "\n",
    "X = res.X\n",
    "F = res.F\n",
    "\n",
    "plt.figure(figsize=(7, 5))\n",
    "plt.scatter(F[:, 0], F[:, 1], s=30, facecolors='none', edgecolors='blue')\n",
    "plt.title(\"Objective Space\")\n",
    "plt.ylabel('f2')\n",
    "plt.xlabel('f1')\n",
    "plt.show()\n",
    "\n",
    "print(X)"
   ]
  }
 ],
 "metadata": {
  "kernelspec": {
   "display_name": "base",
   "language": "python",
   "name": "python3"
  },
  "language_info": {
   "codemirror_mode": {
    "name": "ipython",
    "version": 3
   },
   "file_extension": ".py",
   "mimetype": "text/x-python",
   "name": "python",
   "nbconvert_exporter": "python",
   "pygments_lexer": "ipython3",
   "version": "3.8.8"
  },
  "vscode": {
   "interpreter": {
    "hash": "f08154012ddadd8e950e6e9e035c7a7b32c136e7647e9b7c77e02eb723a8bedb"
   }
  }
 },
 "nbformat": 4,
 "nbformat_minor": 5
}
